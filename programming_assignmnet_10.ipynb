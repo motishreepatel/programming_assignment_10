{
 "cells": [
  {
   "cell_type": "code",
   "execution_count": 1,
   "metadata": {},
   "outputs": [
    {
     "name": "stdout",
     "output_type": "stream",
     "text": [
      "sum of all elements of the list is:  105\n"
     ]
    }
   ],
   "source": [
    "#Q - 1. Write a Python program to find sum of elements in list?\n",
    "#Answer:\n",
    "li1 = [12,34,2,1,56]\n",
    "sum = 0\n",
    "for i in li1:\n",
    "    sum = sum+i\n",
    "print(\"sum of all elements of the list is: \", sum)"
   ]
  },
  {
   "cell_type": "code",
   "execution_count": 2,
   "metadata": {},
   "outputs": [
    {
     "name": "stdout",
     "output_type": "stream",
     "text": [
      "sum of this given list is:  15\n"
     ]
    }
   ],
   "source": [
    "#solving same question using function\n",
    "def sum_list(li):\n",
    "    sum = 0\n",
    "    for i in li:\n",
    "        sum = sum + i\n",
    "    return sum\n",
    "\n",
    "list1 = [1,2,3,4,5]\n",
    "print(\"sum of this given list is: \",sum_list(list1))"
   ]
  },
  {
   "cell_type": "code",
   "execution_count": 3,
   "metadata": {},
   "outputs": [
    {
     "name": "stdout",
     "output_type": "stream",
     "text": [
      "Product of all numbers in the list after multiplication:  24\n"
     ]
    }
   ],
   "source": [
    "#Q - 2. Write a Python program to Multiply all numbers in the list?\n",
    "#Answer:\n",
    "def mul_list(li):\n",
    "    mul = 1\n",
    "    for i in li:\n",
    "        mul = mul*i\n",
    "    return mul\n",
    "\n",
    "list2 = [2,3,4]\n",
    "print(\"Product of all numbers in the list after multiplication: \",mul_list(list2))"
   ]
  },
  {
   "cell_type": "code",
   "execution_count": 7,
   "metadata": {},
   "outputs": [
    {
     "name": "stdout",
     "output_type": "stream",
     "text": [
      "smallest number in the list is:  8\n"
     ]
    }
   ],
   "source": [
    "#Q - 3. Write a Python program to find smallest number in a list?\n",
    "#Answer:\n",
    "def find_smallest(list1):\n",
    "    smallest = list1[0]\n",
    "    for i in list1:\n",
    "        if i < smallest:\n",
    "            smallest = i\n",
    "    return smallest\n",
    "\n",
    "list_input = [8,90,45,56,97]\n",
    "print(\"smallest number in the list is: \",find_smallest(list_input))"
   ]
  },
  {
   "cell_type": "code",
   "execution_count": 9,
   "metadata": {},
   "outputs": [
    {
     "name": "stdout",
     "output_type": "stream",
     "text": [
      "The largest number in the list is:  100\n"
     ]
    }
   ],
   "source": [
    "#Q - 4. Write a Python program to find largest number in a list?\n",
    "#Answer:\n",
    "def find_largest_number(list2):\n",
    "    largest_num = list2[0]\n",
    "    for i in list2:\n",
    "        if i > largest_num:\n",
    "            largest_num = i\n",
    "    return largest_num\n",
    "\n",
    "input_list = [12,56,34,23,89,92,100]\n",
    "print(\"The largest number in the list is: \",find_largest_number(input_list))"
   ]
  },
  {
   "cell_type": "code",
   "execution_count": 11,
   "metadata": {},
   "outputs": [
    {
     "name": "stdout",
     "output_type": "stream",
     "text": [
      "Second largest number in the list is:  90\n"
     ]
    }
   ],
   "source": [
    "#Q - 5. Write a Python program to find second largest number in a list?\n",
    "#Answer:\n",
    "def find_second_largest_number(list3):\n",
    "    largest = float('-inf')\n",
    "    second_largest = float('-inf')\n",
    "    for i in list3:\n",
    "        if i > largest:\n",
    "            second_largest = largest\n",
    "            largest = i\n",
    "        elif i > second_largest and i!= largest:\n",
    "            second_largest = i\n",
    "    return second_largest\n",
    "\n",
    "input_list = [12,45,90,43,67,100]\n",
    "print(\"Second largest number in the list is: \",find_second_largest_number(input_list) )"
   ]
  },
  {
   "cell_type": "code",
   "execution_count": 14,
   "metadata": {},
   "outputs": [
    {
     "name": "stdout",
     "output_type": "stream",
     "text": [
      "List of 6 largest elements from the list is: [78, 45, 34, 23, 12, 12]\n"
     ]
    }
   ],
   "source": [
    "#Q - 6. Write a Python program to find N largest elements from a list?(exp - like find 5 largest elemnets in the list)\n",
    "#Answer:\n",
    "def find_n_largest_elements(list4,n):\n",
    "    largest_elements = []\n",
    "    sorted_list = sorted(list4,reverse=True) #this will sort the list where largest elements will be kept in the beginning\n",
    "    for i in range(n):\n",
    "        largest_elements.append(sorted_list[i])\n",
    "    return largest_elements\n",
    "\n",
    "input_list = [34,12,6,9,78,23,45,12,11,2]\n",
    "num = 6\n",
    "print(\"List of\",num,\"largest elements from the list is:\", find_n_largest_elements(input_list,num))"
   ]
  },
  {
   "cell_type": "code",
   "execution_count": 15,
   "metadata": {},
   "outputs": [
    {
     "name": "stdout",
     "output_type": "stream",
     "text": [
      "List of all even numbers from this list are:  [2, 4, 56, 22, 90]\n"
     ]
    }
   ],
   "source": [
    "#Q - 7. Write a Python program to print even numbers in a list?\n",
    "#Answer:\n",
    "def print_even(list5):\n",
    "    list_even = []\n",
    "    for i in list5:\n",
    "        if i%2 == 0:\n",
    "            list_even.append(i)\n",
    "    return list_even\n",
    "\n",
    "input_list = [2,4,5,89,23,56,11,22,65,90,101]\n",
    "print(\"List of all even numbers from this list are: \",print_even(input_list))"
   ]
  },
  {
   "cell_type": "code",
   "execution_count": 16,
   "metadata": {},
   "outputs": [
    {
     "name": "stdout",
     "output_type": "stream",
     "text": [
      "Here is the list of odd numbers:  [3, 23, 43, 99, 11, 45]\n"
     ]
    }
   ],
   "source": [
    "#Q - 8. Write a Python program to print odd numbers in a List?\n",
    "#Answer:\n",
    "def print_odd_list(list6):\n",
    "    odd_list = []\n",
    "    for i in list6:\n",
    "        if i%2 == 1 :\n",
    "            odd_list.append(i)\n",
    "    return odd_list\n",
    "input_list = [12,3,23,56,43,99,11,4,45,80,76]\n",
    "print(\"Here is the list of odd numbers: \",print_odd_list(input_list))"
   ]
  },
  {
   "cell_type": "code",
   "execution_count": 17,
   "metadata": {},
   "outputs": [
    {
     "name": "stdout",
     "output_type": "stream",
     "text": [
      "The non-empty list from the given list is:  [[2, 3], [1, 2, 3], [45], [8, 7]]\n"
     ]
    }
   ],
   "source": [
    "#Q - 9. Write a Python program to Remove empty List from List?\n",
    "#Answer:\n",
    "def remove_empty_list(lst):\n",
    "    return [sublist for sublist in lst if sublist] #we have given condition as if sublist means if True means if non-empty then return that sublist\n",
    "\n",
    "input_list = [[],[2,3],[],[1,2,3],[45],[],[8,7]]\n",
    "print(\"The non-empty list from the given list is: \",remove_empty_list(input_list))"
   ]
  },
  {
   "cell_type": "code",
   "execution_count": 18,
   "metadata": {},
   "outputs": [
    {
     "name": "stdout",
     "output_type": "stream",
     "text": [
      "The cloned list is:  [12, 34, 23, 56, 32]\n"
     ]
    }
   ],
   "source": [
    "#Q - 10. Write a Python program to Cloning or Copying a list?\n",
    "#Answer:\n",
    "def cloning_list(lst):\n",
    "    cloned_list = []\n",
    "    for i in lst:\n",
    "        cloned_list.append(i)\n",
    "    return cloned_list\n",
    "\n",
    "input_list = [12,34,23,56,32]\n",
    "print(\"The cloned list is: \",cloning_list(input_list))"
   ]
  },
  {
   "cell_type": "code",
   "execution_count": 20,
   "metadata": {},
   "outputs": [
    {
     "name": "stdout",
     "output_type": "stream",
     "text": [
      "The original list is: [12, 34, 23, 56, 32]\n",
      "The cloned list is:  [12, 34, 23, 56, 32]\n"
     ]
    }
   ],
   "source": [
    "#Another way of solving this question\n",
    "def cloning_list(lst):\n",
    "    return lst.copy()\n",
    "\n",
    "input_list = [12,34,23,56,32]\n",
    "print(\"The original list is:\",input_list )\n",
    "print(\"The cloned list is: \",cloning_list(input_list))"
   ]
  },
  {
   "cell_type": "code",
   "execution_count": 22,
   "metadata": {},
   "outputs": [
    {
     "name": "stdout",
     "output_type": "stream",
     "text": [
      "No. of occurrences of  1 in this list is:  2\n"
     ]
    }
   ],
   "source": [
    "#Q - 11. Write a Python program to Count occurrences of an element in a list?\n",
    "#Answer:\n",
    "def find_occurrences(lst,num):\n",
    "    count_num = 0\n",
    "    for i in lst:\n",
    "        if i == num:\n",
    "            count_num = count_num + 1\n",
    "    return count_num\n",
    "\n",
    "input_list = [1,2,3,4,3,5,3,7,1]\n",
    "num = 1\n",
    "print(\"No. of occurrences of \",num,\"in this list is: \",find_occurrences(input_list,num) )"
   ]
  },
  {
   "cell_type": "code",
   "execution_count": null,
   "metadata": {},
   "outputs": [],
   "source": []
  }
 ],
 "metadata": {
  "kernelspec": {
   "display_name": "Python 3.9.6 64-bit",
   "language": "python",
   "name": "python3"
  },
  "language_info": {
   "codemirror_mode": {
    "name": "ipython",
    "version": 3
   },
   "file_extension": ".py",
   "mimetype": "text/x-python",
   "name": "python",
   "nbconvert_exporter": "python",
   "pygments_lexer": "ipython3",
   "version": "3.9.6"
  },
  "orig_nbformat": 4,
  "vscode": {
   "interpreter": {
    "hash": "31f2aee4e71d21fbe5cf8b01ff0e069b9275f58929596ceb00d14d90e3e16cd6"
   }
  }
 },
 "nbformat": 4,
 "nbformat_minor": 2
}
